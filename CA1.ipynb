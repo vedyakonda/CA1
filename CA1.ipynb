{
 "cells": [
  {
   "cell_type": "code",
   "execution_count": 24,
   "id": "ac009f33-3af8-4509-af2b-27412f3e9446",
   "metadata": {},
   "outputs": [
    {
     "name": "stdout",
     "output_type": "stream",
     "text": [
      "Cohen's Kappa: 0.2776203966005666\n",
      "Accuracy: 0.9673202614379085\n",
      "F1 Score 0.2857142857142857\n",
      "Precision 1.0\n"
     ]
    }
   ],
   "source": [
    "import pandas as pd\n",
    "data = pd.read_csv(\"ca1-dataset.csv\")\n",
    "\n",
    "from sklearn.model_selection import train_test_split\n",
    "from sklearn.preprocessing import LabelEncoder\n",
    "from sklearn.ensemble import RandomForestClassifier\n",
    "from sklearn.metrics import classification_report, accuracy_score\n",
    "from sklearn.metrics import cohen_kappa_score\n",
    "from sklearn.metrics import f1_score\n",
    "from sklearn.metrics import precision_score\n",
    "\n",
    "# Encode the target variable\n",
    "le = LabelEncoder()\n",
    "data['OffTask'] = le.fit_transform(data['OffTask'])\n",
    "\n",
    "# Select features\n",
    "X = data[[\"Avgright\", \"Avgbug\", \"Avghelp\", \"Avgchoice\", \"Avgstring\", \"Avgnumber\", \"Avgpoint\", \"Avgpchange\", \"Avgtime\", \"AvgtimeSDnormed\", \"Avgtimelast3SDnormed\", \"Avgtimelast5SDnormed\", \"Avgnotright\", \"Avghowmanywrong-up\", \"Avghelppct-up\", \"Avgwrongpct-up\", \"Avgtimeperact-up\", \"AvgPrev3Count-up\", \"AvgPrev5Count-up\", \"Avgrecent8help\", \"Avg recent5wrong\", \"Avgmanywrong-up\", \"AvgasymptoteA-up\", \"AvgasymptoteB-up\"]]\n",
    "y = data['OffTask']\n",
    "\n",
    "# Split data into training and testing sets\n",
    "X_train, X_test, y_train, y_test = train_test_split(X, y, test_size=0.2, random_state=42)\n",
    "\n",
    "# Initialize and train the classifier\n",
    "clf = RandomForestClassifier(n_estimators=100, random_state=42)\n",
    "clf.fit(X_train, y_train)\n",
    "\n",
    "# Make predictions\n",
    "y_pred = clf.predict(X_test)\n",
    "\n",
    "# Evaluate the model\n",
    "accuracy = accuracy_score(y_test, y_pred)\n",
    "classification_report = classification_report(y_test, y_pred)\n",
    "kappa_score = cohen_kappa_score(y_test, y_pred)\n",
    "f1_value = f1_score(y_test, y_pred)\n",
    "precision = precision_score(y_test, y_pred)\n",
    "\n",
    "print(\"Cohen's Kappa:\", kappa_score)\n",
    "print(\"Accuracy:\", accuracy)\n",
    "print(\"F1 Score\", f1_value)\n",
    "print(\"Precision\", precision)\n"
   ]
  },
  {
   "cell_type": "code",
   "execution_count": 23,
   "id": "ee881f58-d8d1-41e7-a40c-e041f97fe643",
   "metadata": {},
   "outputs": [
    {
     "name": "stdout",
     "output_type": "stream",
     "text": [
      "Cohen's Kappa: 0.5286506469500925\n",
      "Accuracy: 0.9673202614379085\n",
      "F1 Score 0.5454545454545454\n",
      "Precision 0.6\n"
     ]
    }
   ],
   "source": [
    "import pandas as pd\n",
    "data = pd.read_csv(\"ca1-dataset.csv\")\n",
    "\n",
    "from sklearn.model_selection import train_test_split\n",
    "from sklearn.preprocessing import LabelEncoder\n",
    "from sklearn.tree import DecisionTreeClassifier\n",
    "from sklearn.metrics import classification_report, accuracy_score\n",
    "from sklearn.metrics import cohen_kappa_score\n",
    "from sklearn.metrics import f1_score\n",
    "from sklearn.metrics import precision_score\n",
    "\n",
    "# Encode the target variable\n",
    "le = LabelEncoder()\n",
    "data['OffTask'] = le.fit_transform(data['OffTask'])\n",
    "\n",
    "# Select features\n",
    "X = data[[\"Avgright\", \"Avgbug\", \"Avghelp\", \"Avgchoice\", \"Avgstring\", \"Avgnumber\", \"Avgpoint\", \"Avgpchange\", \"Avgtime\", \"AvgtimeSDnormed\", \"Avgtimelast3SDnormed\", \"Avgtimelast5SDnormed\", \"Avgnotright\", \"Avghowmanywrong-up\", \"Avghelppct-up\", \"Avgwrongpct-up\", \"Avgtimeperact-up\", \"AvgPrev3Count-up\", \"AvgPrev5Count-up\", \"Avgrecent8help\", \"Avg recent5wrong\", \"Avgmanywrong-up\", \"AvgasymptoteA-up\", \"AvgasymptoteB-up\"]]\n",
    "y = data['OffTask']\n",
    "\n",
    "# Split data into training and testing sets\n",
    "X_train, X_test, y_train, y_test = train_test_split(X, y, test_size=0.2, random_state=42)\n",
    "\n",
    "# Initialize and train the classifier\n",
    "clf = DecisionTreeClassifier(random_state=42)\n",
    "clf.fit(X_train, y_train)\n",
    "\n",
    "# Make predictions\n",
    "y_pred = clf.predict(X_test)\n",
    "\n",
    "# Evaluate the model\n",
    "accuracy = accuracy_score(y_test, y_pred)\n",
    "classification_report = classification_report(y_test, y_pred)\n",
    "kappa_score = cohen_kappa_score(y_test, y_pred)\n",
    "f1_value = f1_score(y_test, y_pred)\n",
    "precision = precision_score(y_test, y_pred)\n",
    "\n",
    "print(\"Cohen's Kappa:\", kappa_score)\n",
    "print(\"Accuracy:\", accuracy)\n",
    "print(\"F1 Score\", f1_value)\n",
    "print(\"Precision\", precision)\n"
   ]
  },
  {
   "cell_type": "code",
   "execution_count": 22,
   "id": "1b500f6c-79aa-4e55-875f-2a3fcbf241d7",
   "metadata": {},
   "outputs": [
    {
     "name": "stdout",
     "output_type": "stream",
     "text": [
      "Cohen's Kappa: 0.6577181208053692\n",
      "Accuracy: 0.9803921568627451\n",
      "F1 Score 0.6666666666666666\n",
      "Precision 1.0\n"
     ]
    },
    {
     "name": "stderr",
     "output_type": "stream",
     "text": [
      "/Library/Frameworks/Python.framework/Versions/3.11/lib/python3.11/site-packages/xgboost/data.py:312: FutureWarning: is_sparse is deprecated and will be removed in a future version. Check `isinstance(dtype, pd.SparseDtype)` instead.\n",
      "  if is_sparse(dtype):\n",
      "/Library/Frameworks/Python.framework/Versions/3.11/lib/python3.11/site-packages/xgboost/data.py:314: FutureWarning: is_categorical_dtype is deprecated and will be removed in a future version. Use isinstance(dtype, CategoricalDtype) instead\n",
      "  elif is_categorical_dtype(dtype) and enable_categorical:\n",
      "/Library/Frameworks/Python.framework/Versions/3.11/lib/python3.11/site-packages/xgboost/data.py:345: FutureWarning: is_categorical_dtype is deprecated and will be removed in a future version. Use isinstance(dtype, CategoricalDtype) instead\n",
      "  if is_categorical_dtype(dtype)\n",
      "/Library/Frameworks/Python.framework/Versions/3.11/lib/python3.11/site-packages/xgboost/data.py:336: FutureWarning: is_categorical_dtype is deprecated and will be removed in a future version. Use isinstance(dtype, CategoricalDtype) instead\n",
      "  return is_int or is_bool or is_float or is_categorical_dtype(dtype)\n",
      "/Library/Frameworks/Python.framework/Versions/3.11/lib/python3.11/site-packages/xgboost/data.py:440: FutureWarning: is_sparse is deprecated and will be removed in a future version. Check `isinstance(dtype, pd.SparseDtype)` instead.\n",
      "  if is_sparse(data):\n",
      "/Library/Frameworks/Python.framework/Versions/3.11/lib/python3.11/site-packages/xgboost/data.py:312: FutureWarning: is_sparse is deprecated and will be removed in a future version. Check `isinstance(dtype, pd.SparseDtype)` instead.\n",
      "  if is_sparse(dtype):\n",
      "/Library/Frameworks/Python.framework/Versions/3.11/lib/python3.11/site-packages/xgboost/data.py:314: FutureWarning: is_categorical_dtype is deprecated and will be removed in a future version. Use isinstance(dtype, CategoricalDtype) instead\n",
      "  elif is_categorical_dtype(dtype) and enable_categorical:\n",
      "/Library/Frameworks/Python.framework/Versions/3.11/lib/python3.11/site-packages/xgboost/data.py:345: FutureWarning: is_categorical_dtype is deprecated and will be removed in a future version. Use isinstance(dtype, CategoricalDtype) instead\n",
      "  if is_categorical_dtype(dtype)\n",
      "/Library/Frameworks/Python.framework/Versions/3.11/lib/python3.11/site-packages/xgboost/data.py:336: FutureWarning: is_categorical_dtype is deprecated and will be removed in a future version. Use isinstance(dtype, CategoricalDtype) instead\n",
      "  return is_int or is_bool or is_float or is_categorical_dtype(dtype)\n"
     ]
    }
   ],
   "source": [
    "import pandas as pd\n",
    "data = pd.read_csv(\"ca1-dataset.csv\")\n",
    "\n",
    "from sklearn.model_selection import train_test_split\n",
    "from sklearn.preprocessing import LabelEncoder\n",
    "from xgboost import XGBClassifier\n",
    "from sklearn.metrics import classification_report, accuracy_score\n",
    "from sklearn.metrics import cohen_kappa_score\n",
    "from sklearn.metrics import f1_score\n",
    "from sklearn.metrics import precision_score\n",
    "\n",
    "# Encode the target variable\n",
    "le = LabelEncoder()\n",
    "data['OffTask'] = le.fit_transform(data['OffTask'])\n",
    "\n",
    "# Select features\n",
    "X = data[[\"Avgright\", \"Avgbug\", \"Avghelp\", \"Avgchoice\", \"Avgstring\", \"Avgnumber\", \"Avgpoint\", \"Avgpchange\", \"Avgtime\", \"AvgtimeSDnormed\", \"Avgtimelast3SDnormed\", \"Avgtimelast5SDnormed\", \"Avgnotright\", \"Avghowmanywrong-up\", \"Avghelppct-up\", \"Avgwrongpct-up\", \"Avgtimeperact-up\", \"AvgPrev3Count-up\", \"AvgPrev5Count-up\", \"Avgrecent8help\", \"Avg recent5wrong\", \"Avgmanywrong-up\", \"AvgasymptoteA-up\", \"AvgasymptoteB-up\"]]\n",
    "y = data['OffTask']\n",
    "\n",
    "# Split data into training and testing sets\n",
    "X_train, X_test, y_train, y_test = train_test_split(X, y, test_size=0.2, random_state=42)\n",
    "\n",
    "# Initialize and train the classifier\n",
    "clf = XGBClassifier(random_state=42)\n",
    "clf.fit(X_train, y_train)\n",
    "\n",
    "# Make predictions\n",
    "y_pred = clf.predict(X_test)\n",
    "\n",
    "# Evaluate the model\n",
    "accuracy = accuracy_score(y_test, y_pred)\n",
    "classification_report = classification_report(y_test, y_pred)\n",
    "kappa_score = cohen_kappa_score(y_test, y_pred)\n",
    "f1_value = f1_score(y_test, y_pred)\n",
    "precision = precision_score(y_test, y_pred)\n",
    "\n",
    "print(\"Cohen's Kappa:\", kappa_score)\n",
    "print(\"Accuracy:\", accuracy)\n",
    "print(\"F1 Score\", f1_value)\n",
    "print(\"Precision\", precision)\n"
   ]
  },
  {
   "cell_type": "code",
   "execution_count": 21,
   "id": "b8d8ce77-db5b-4d6f-9233-1a9eca943ed3",
   "metadata": {},
   "outputs": [
    {
     "name": "stdout",
     "output_type": "stream",
     "text": [
      "Cohen's Kappa: 0.40175953079178883\n",
      "Accuracy: 0.9477124183006536\n",
      "F1 Score 0.42857142857142855\n",
      "Precision 0.375\n"
     ]
    }
   ],
   "source": [
    "import pandas as pd\n",
    "data = pd.read_csv(\"ca1-dataset.csv\")\n",
    "\n",
    "from sklearn.model_selection import train_test_split\n",
    "from sklearn.preprocessing import LabelEncoder\n",
    "from sklearn.naive_bayes import GaussianNB\n",
    "from sklearn.metrics import classification_report, accuracy_score\n",
    "from sklearn.metrics import cohen_kappa_score\n",
    "from sklearn.metrics import f1_score\n",
    "from sklearn.metrics import precision_score\n",
    "\n",
    "# Encode the target variable\n",
    "le = LabelEncoder()\n",
    "data['OffTask'] = le.fit_transform(data['OffTask'])\n",
    "\n",
    "# Select features\n",
    "X = data[[\"Avgright\", \"Avgbug\", \"Avghelp\", \"Avgchoice\", \"Avgstring\", \"Avgnumber\", \"Avgpoint\", \"Avgpchange\", \"Avgtime\", \"AvgtimeSDnormed\", \"Avgtimelast3SDnormed\", \"Avgtimelast5SDnormed\", \"Avgnotright\", \"Avghowmanywrong-up\", \"Avghelppct-up\", \"Avgwrongpct-up\", \"Avgtimeperact-up\", \"AvgPrev3Count-up\", \"AvgPrev5Count-up\", \"Avgrecent8help\", \"Avg recent5wrong\", \"Avgmanywrong-up\", \"AvgasymptoteA-up\", \"AvgasymptoteB-up\"]]\n",
    "y = data['OffTask']\n",
    "\n",
    "# Split data into training and testing sets\n",
    "X_train, X_test, y_train, y_test = train_test_split(X, y, test_size=0.2, random_state=42)\n",
    "\n",
    "# Initialize and train the classifier\n",
    "clf = GaussianNB()\n",
    "clf.fit(X_train, y_train)\n",
    "\n",
    "# Make predictions\n",
    "y_pred = clf.predict(X_test)\n",
    "\n",
    "# Evaluate the model\n",
    "accuracy = accuracy_score(y_test, y_pred)\n",
    "classification_report = classification_report(y_test, y_pred)\n",
    "kappa_score = cohen_kappa_score(y_test, y_pred)\n",
    "f1_value = f1_score(y_test, y_pred)\n",
    "precision = precision_score(y_test, y_pred)\n",
    "\n",
    "print(\"Cohen's Kappa:\", kappa_score)\n",
    "print(\"Accuracy:\", accuracy)\n",
    "print(\"F1 Score\", f1_value)\n",
    "print(\"Precision\", precision)\n"
   ]
  },
  {
   "cell_type": "code",
   "execution_count": null,
   "id": "cc81d1e4-e965-4c72-8076-69b52e93226e",
   "metadata": {},
   "outputs": [],
   "source": []
  }
 ],
 "metadata": {
  "kernelspec": {
   "display_name": "Python 3 (ipykernel)",
   "language": "python",
   "name": "python3"
  },
  "language_info": {
   "codemirror_mode": {
    "name": "ipython",
    "version": 3
   },
   "file_extension": ".py",
   "mimetype": "text/x-python",
   "name": "python",
   "nbconvert_exporter": "python",
   "pygments_lexer": "ipython3",
   "version": "3.11.5"
  }
 },
 "nbformat": 4,
 "nbformat_minor": 5
}
